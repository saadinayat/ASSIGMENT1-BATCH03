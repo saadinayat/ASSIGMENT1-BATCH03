{
 "cells": [
  {
   "cell_type": "code",
   "execution_count": 18,
   "metadata": {},
   "outputs": [
    {
     "name": "stdout",
     "output_type": "stream",
     "text": [
      "ASSSIGMENT01,Batch03\n",
      "\n",
      "Name: Saad inayat\n",
      "Father Name: Inayat hussain\n",
      "Cousre: PIACI\n",
      "Roll No: AIC    \n",
      "University: Bahria University\n",
      "\n",
      "\n",
      "Name: Haris zubair\n",
      "Father Name: Zubair bukhari\n",
      "Cousre: PIACI\n",
      "Roll No: AIC    \n",
      "University: Bahria University\n",
      "\n",
      "\n",
      "Name: Hamza shahid\n",
      "Father Name: Shahid khan\n",
      "Cousre: PIACI\n",
      "Roll No: AIC    \n",
      "University: Bahria University\n",
      "\n",
      "\n",
      "Name: Muhammad ali\n",
      "Father Name: Naseem bhukhari\n",
      "Cousre: PIACI\n",
      "Roll No: AIC    \n",
      "University: Bahria University\n",
      "\n"
     ]
    }
   ],
   "source": [
    "# ASSIGMENT 01\n",
    "\n",
    "Name1 = \"Saad inayat\"\n",
    "Name2 = \"Haris zubair\"\n",
    "Name3 = \"Hamza shahid\"\n",
    "Name4 = \"Muhammad ali\"\n",
    "\n",
    "Father_Name1 = \"Inayat hussain\"\n",
    "Father_Name2 = \"Zubair bukhari\"\n",
    "Father_Name3 = \"Shahid khan\"\n",
    "Father_Name4 = \"Naseem bhukhari\"\n",
    "\n",
    "course1 = \"AIC\"\n",
    "course2 = \"AIC\"\n",
    "course3 = \"AIC\"\n",
    "course4 = \"AIC\"\n",
    "\n",
    "Roll_No1 = \"PIACI\"\n",
    "Roll_No2 = \"PIACI\"\n",
    "Roll_No3 = \"PIACI\"\n",
    "Roll_No4 = \"PIACI\"\n",
    "\n",
    "University = \"Bahria University\"\n",
    "\n",
    "ID_Card1 = \"\"\"\n",
    "Name: {}\n",
    "Father Name: {}\n",
    "Cousre: {}\n",
    "Roll No: {}    \n",
    "University: {}\n",
    "\"\"\".format(Name1,Father_Name1,Roll_No1,course1,University)\n",
    "\n",
    "ID_Card2 = \"\"\"\n",
    "Name: {}\n",
    "Father Name: {}\n",
    "Cousre: {}\n",
    "Roll No: {}    \n",
    "University: {}\n",
    "\"\"\".format(Name2,Father_Name2,Roll_No2,course2,University)\n",
    "\n",
    "ID_Card3 = \"\"\"\n",
    "Name: {}\n",
    "Father Name: {}\n",
    "Cousre: {}\n",
    "Roll No: {}    \n",
    "University: {}\n",
    "\"\"\".format(Name3,Father_Name3,Roll_No3,course3,University)\n",
    "\n",
    "ID_Card4 = \"\"\"\n",
    "Name: {}\n",
    "Father Name: {}\n",
    "Cousre: {}\n",
    "Roll No: {}    \n",
    "University: {}\n",
    "\"\"\".format(Name4,Father_Name4,Roll_No4,course4,University)\n",
    "print(\"ASSSIGMENT01,Batch03\")\n",
    "print(ID_Card1)\n",
    "print(ID_Card2)\n",
    "print(ID_Card3)\n",
    "print(ID_Card4)"
   ]
  },
  {
   "cell_type": "code",
   "execution_count": null,
   "metadata": {},
   "outputs": [],
   "source": []
  },
  {
   "cell_type": "code",
   "execution_count": null,
   "metadata": {},
   "outputs": [],
   "source": []
  },
  {
   "cell_type": "code",
   "execution_count": null,
   "metadata": {},
   "outputs": [],
   "source": []
  },
  {
   "cell_type": "code",
   "execution_count": null,
   "metadata": {},
   "outputs": [],
   "source": []
  },
  {
   "cell_type": "code",
   "execution_count": null,
   "metadata": {},
   "outputs": [],
   "source": []
  }
 ],
 "metadata": {
  "kernelspec": {
   "display_name": "Python 3",
   "language": "python",
   "name": "python3"
  },
  "language_info": {
   "codemirror_mode": {
    "name": "ipython",
    "version": 3
   },
   "file_extension": ".py",
   "mimetype": "text/x-python",
   "name": "python",
   "nbconvert_exporter": "python",
   "pygments_lexer": "ipython3",
   "version": "3.7.4"
  }
 },
 "nbformat": 4,
 "nbformat_minor": 2
}
